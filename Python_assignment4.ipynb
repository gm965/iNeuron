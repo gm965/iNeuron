{
  "nbformat": 4,
  "nbformat_minor": 0,
  "metadata": {
    "colab": {
      "name": "Python_assignment4.ipynb",
      "provenance": [],
      "collapsed_sections": []
    },
    "kernelspec": {
      "name": "python3",
      "display_name": "Python 3"
    }
  },
  "cells": [
    {
      "cell_type": "markdown",
      "metadata": {
        "id": "V-rnsGal8tbM"
      },
      "source": [
        "1.1 Write a Python Program(with class concepts) to find the area of the triangle using the below formula.\n",
        "<br><br>area = (s*(s-a)*(s-b)*(s-c)) ** 0.5\n",
        "<br><br>Function to take the length of the sides of triangle from user should be defined in the parent class and function to calculate the area should be defined in subclass."
      ]
    },
    {
      "cell_type": "code",
      "metadata": {
        "id": "setIrT6i0d1e",
        "outputId": "fbef54c7-a26e-4b41-b102-0dfc77d04429",
        "colab": {
          "base_uri": "https://localhost:8080/"
        }
      },
      "source": [
        "class area_of_circle:\n",
        "\n",
        "  #initialise the class\n",
        "  def __init__(self):\n",
        "    self.a = int(input(\"Enter the length of 1 side (a):\"))\n",
        "    self.b = int(input(\"Enter the length of 2 side (b):\"))\n",
        "    self.c = int(input(\"Enter the length of 3 side (c):\"))\n",
        "  \n",
        "  #function for area calculation\n",
        "  def traingle_area(self):\n",
        "    s = (self.a+self.b+self.c) / 2\n",
        "    area = 0.5 * s * (s- self.a)* (s - self.b) * (s - self.c)\n",
        "    return area\n",
        "\n",
        "#instantiate the class and calculate the area of \n",
        "tria1 = area_of_circle()    \n",
        "tria1.traingle_area()"
      ],
      "execution_count": 19,
      "outputs": [
        {
          "output_type": "stream",
          "text": [
            "Enter the length of 1 side (a):3\n",
            "Enter the length of 2 side (b):4\n",
            "Enter the length of 3 side (c):5\n"
          ],
          "name": "stdout"
        },
        {
          "output_type": "execute_result",
          "data": {
            "text/plain": [
              "18.0"
            ]
          },
          "metadata": {
            "tags": []
          },
          "execution_count": 19
        }
      ]
    },
    {
      "cell_type": "markdown",
      "metadata": {
        "id": "q-B3L6JH8p2h"
      },
      "source": [
        "1.2 Write a function filter_long_words() that takes a list of words and an integer n and returns 4the list of words that are longer than n."
      ]
    },
    {
      "cell_type": "code",
      "metadata": {
        "id": "hc94iS-x8qef",
        "outputId": "394857fc-d688-485d-de43-4ff2ee49d979",
        "colab": {
          "base_uri": "https://localhost:8080/"
        }
      },
      "source": [
        "#Method 1 (Using list comprehension)\n",
        "def filter_long_words(list_of_words, n):\n",
        "  return [i for i in list_of_words if len(i)>n]\n",
        "\n",
        "#Test case:\n",
        "list_of_words = [\"incredible\", 'awesome', \"superb\",\"challenging\",\"unique\"]\n",
        "filter_long_words(list_of_words,6)  \n",
        "\n",
        "#Method 2 (Using conventional for loop)\n",
        "def filter_long_words_m2(list_of_words, n):\n",
        "  return_list = []\n",
        "  for i in list_of_words:\n",
        "    if len(i) > n:\n",
        "      return_list.append(i)\n",
        "  return return_list\n",
        "\n",
        "#Method 3 (Using conventional while loop)\n",
        "def filter_long_words_m3(list_of_words, n):\n",
        "  return_list = []\n",
        "  i = 0\n",
        "  while i < len(list_of_words):\n",
        "    if len(list_of_words[i]) > n:\n",
        "      return_list.append(list_of_words[i])\n",
        "    i += 1\n",
        "  return return_list  \n",
        "\n",
        "#Test case:\n",
        "list_of_words = [\"incredible\", 'awesome', \"superb\",\"challenging\",\"unique\"]\n",
        "print(filter_long_words(list_of_words,7)  )\n",
        "print(filter_long_words_m2(list_of_words,7))\n",
        "print(filter_long_words_m3(list_of_words,7))"
      ],
      "execution_count": 6,
      "outputs": [
        {
          "output_type": "stream",
          "text": [
            "['incredible', 'challenging']\n",
            "['incredible', 'challenging']\n",
            "['incredible', 'challenging']\n"
          ],
          "name": "stdout"
        }
      ]
    },
    {
      "cell_type": "markdown",
      "metadata": {
        "id": "4e8ip9Vs8q-z"
      },
      "source": [
        "2.1 Write a Python program using function concept that maps list of words into a list of integers representing the lengths of the corresponding words."
      ]
    },
    {
      "cell_type": "code",
      "metadata": {
        "id": "hGdVu0U08rXm",
        "outputId": "bb034b49-3075-4b86-bddc-b4cce9f36b2a",
        "colab": {
          "base_uri": "https://localhost:8080/"
        }
      },
      "source": [
        "#Method 1: list comprehension\n",
        "def words_to_num (list_of_words):\n",
        "  return [len(i) for i in list_of_words]\n",
        "\n",
        "#Method 2 (Using conventional for loop)\n",
        "def words_to_num_m2(list_of_words):\n",
        "  return_list = []\n",
        "  for i in list_of_words:\n",
        "    return_list.append(len(i))\n",
        "  return return_list\n",
        "#Test case\n",
        "list_of_words = [\"incredible\", 'awesome', \"superb\",\"challenging\",\"unique\"]\n",
        "print(words_to_num(list_of_words))\n",
        "print(words_to_num_m2(list_of_words))\n"
      ],
      "execution_count": 8,
      "outputs": [
        {
          "output_type": "stream",
          "text": [
            "[10, 7, 6, 11, 6]\n",
            "[10, 7, 6, 11, 6]\n"
          ],
          "name": "stdout"
        }
      ]
    },
    {
      "cell_type": "markdown",
      "metadata": {
        "id": "O6XXEErpBdox"
      },
      "source": [
        "2.2 Write a Python function which takes a character (i.e. a string of length 1) and returns True if it is a vowel, False otherwise."
      ]
    },
    {
      "cell_type": "code",
      "metadata": {
        "id": "DFSVTiR0BE2Q",
        "outputId": "63c348ad-1a6c-4793-9fa5-c03365ede92d",
        "colab": {
          "base_uri": "https://localhost:8080/"
        }
      },
      "source": [
        "#Method 1\n",
        "def vowel_check(input_char):\n",
        "  if input_char in [\"a\",\"e\",\"i\",\"o\",\"u\", \"A\",\"E\",\"I\",\"O\",\"U\"]:\n",
        "    return True\n",
        "  else:\n",
        "    return False\n",
        "\n",
        "#Test case \n",
        "print(vowel_check(\"1\"))"
      ],
      "execution_count": 12,
      "outputs": [
        {
          "output_type": "stream",
          "text": [
            "False\n"
          ],
          "name": "stdout"
        }
      ]
    },
    {
      "cell_type": "code",
      "metadata": {
        "id": "YaWPF6zsCGD2"
      },
      "source": [
        ""
      ],
      "execution_count": null,
      "outputs": []
    }
  ]
}