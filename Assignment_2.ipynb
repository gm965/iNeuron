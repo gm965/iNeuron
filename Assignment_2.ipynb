{
  "nbformat": 4,
  "nbformat_minor": 0,
  "metadata": {
    "colab": {
      "name": "Assignment_2.ipynb",
      "provenance": [],
      "collapsed_sections": []
    },
    "kernelspec": {
      "name": "python3",
      "display_name": "Python 3"
    }
  },
  "cells": [
    {
      "cell_type": "markdown",
      "metadata": {
        "id": "Wad0_8EEGohv"
      },
      "source": [
        "1.0 Create the below pattern using nested for loop in Python.\n",
        "\n",
        " <br>*\n",
        " <br>* *\n",
        " <br>* * *\n",
        " <br>* * * *\n",
        " <br>* * * * *\n",
        " <br>* * * *\n",
        " <br>* * *\n",
        " <br>* *\n",
        " <br>*"
      ]
    },
    {
      "cell_type": "code",
      "metadata": {
        "id": "ZbhdAqaZFCGZ",
        "outputId": "1e8ad8dc-2b0e-4b0e-f4fd-c4766c954ae7",
        "colab": {
          "base_uri": "https://localhost:8080/",
          "height": 176
        }
      },
      "source": [
        "max_stars = 5\n",
        "for i in range(1,max_stars+1):\n",
        "  print(\"*\"*i)\n",
        "  if i == max_stars:\n",
        "    for j in range(max_stars-1, 0,-1):\n",
        "      print(\"*\"*j)"
      ],
      "execution_count": null,
      "outputs": [
        {
          "output_type": "stream",
          "text": [
            "*\n",
            "**\n",
            "***\n",
            "****\n",
            "*****\n",
            "****\n",
            "***\n",
            "**\n",
            "*\n"
          ],
          "name": "stdout"
        }
      ]
    },
    {
      "cell_type": "markdown",
      "metadata": {
        "id": "BcrGKI2iHsKA"
      },
      "source": [
        "2.0 Write a Python program to reverse a word after accepting the input from the user."
      ]
    },
    {
      "cell_type": "code",
      "metadata": {
        "id": "zfXTHxJjFygm",
        "outputId": "7ecb0467-a081-45f7-dea6-a6f7a0c88a9e",
        "colab": {
          "base_uri": "https://localhost:8080/",
          "height": 87
        }
      },
      "source": [
        "user_input = input(\"please enter a sentense which is to be reversed: \")\n",
        "len_of_input = len(user_input)\n",
        "#Method 1\n",
        "print(\"The reversed version is (Method 1): \",user_input[::-1])\n",
        "\n",
        "#Method 2 (Using for loop)\n",
        "reversed_version = []\n",
        "for i in range(len_of_input):\n",
        "  reversed_version.append(user_input[len_of_input-i-1])\n",
        "print(\"The reversed version is (Method 2): \",\"\".join(reversed_version))\n",
        "\n",
        "#Method 3 (Using while loop)\n",
        "reverse_v2=\"\"\n",
        "j = len_of_input\n",
        "while j > 0:\n",
        "  reverse_v2 +=  user_input[j-1]\n",
        "  j -= 1\n",
        "print(\"The reversed version is (Method 3): \", reverse_v2)\n"
      ],
      "execution_count": null,
      "outputs": [
        {
          "output_type": "stream",
          "text": [
            "please enter a sentense which is to be reversed: hello gopi\n",
            "The reversed version is (Method 1):  ipog olleh\n",
            "The reversed version is (Method 2):  ipog olleh\n",
            "The reversed version is (Method 3):  ipog olleh\n"
          ],
          "name": "stdout"
        }
      ]
    },
    {
      "cell_type": "code",
      "metadata": {
        "id": "6yCeYQQBIxFr"
      },
      "source": [
        ""
      ],
      "execution_count": null,
      "outputs": []
    }
  ]
}