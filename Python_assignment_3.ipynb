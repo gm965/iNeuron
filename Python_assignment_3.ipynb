{
  "nbformat": 4,
  "nbformat_minor": 0,
  "metadata": {
    "colab": {
      "name": "Python_assignment_3.ipynb",
      "provenance": [],
      "collapsed_sections": []
    },
    "kernelspec": {
      "name": "python3",
      "display_name": "Python 3"
    }
  },
  "cells": [
    {
      "cell_type": "markdown",
      "metadata": {
        "id": "LD5UYs1g_Naw"
      },
      "source": [
        "1.1 Write a Python Program to implement your own myreduce() function which works exactly like Python's built-in function reduce()"
      ]
    },
    {
      "cell_type": "code",
      "metadata": {
        "id": "8AP-gPeG3bea",
        "outputId": "c3ce277f-b163-42e8-cc47-2e69211092db",
        "colab": {
          "base_uri": "https://localhost:8080/"
        }
      },
      "source": [
        "def myreduce(fun,seq):\n",
        "  \"\"\"\n",
        "  Working concept: \n",
        "    1. First two elements of the sequence are picked and the result is obtained by applying the function \"fun\".\n",
        "    2. Apply the same function to the result obtained in step 1 and the third element. Store the result.\n",
        "    3. Continues step 2 till all elements in the container are exhausted with.\n",
        "    4. Return the final result\n",
        "  \"\"\"\n",
        "  if len(seq)==1:\n",
        "    return seq[0]\n",
        "  else:\n",
        "    first_element = seq[0]\n",
        "    second_element = seq[1]\n",
        "    result = fun(first_element, second_element)\n",
        "    #result = first_element\n",
        "    for i in seq[2:]:\n",
        "      result = fun(result, i)\n",
        "    return result\n",
        "\n",
        "#Testing purpose\n",
        "lst = [1,2]\n",
        "myreduce(lambda a,b : a*b, lst)\n",
        "\n",
        "def add_custom(a,b):\n",
        "  return a+b\n",
        "\n",
        "myreduce(add_custom,lst)"
      ],
      "execution_count": 38,
      "outputs": [
        {
          "output_type": "execute_result",
          "data": {
            "text/plain": [
              "3"
            ]
          },
          "metadata": {
            "tags": []
          },
          "execution_count": 38
        }
      ]
    },
    {
      "cell_type": "markdown",
      "metadata": {
        "id": "NJhdglZv_WEf"
      },
      "source": [
        "1.2 Write a Python program to implement your own myfilter() function which works exactly like Python's built-in function filter()"
      ]
    },
    {
      "cell_type": "code",
      "metadata": {
        "id": "4qwLYLxC_Mwi",
        "outputId": "00cd04c4-ed65-409d-97d7-7952ebea2747",
        "colab": {
          "base_uri": "https://localhost:8080/"
        }
      },
      "source": [
        "def myfilter(fun, seq):\n",
        "  \"\"\"\n",
        "   Working concept: \n",
        "    1. Initialise an empty list to store the final result\n",
        "    2. Apply the function \"fun\" on each element of the sequence \"seq\". Where the function returns True, append the element to the result list.\n",
        "    3. Return the final result\n",
        "  \"\"\"\n",
        "  result= []\n",
        "  for i in seq:\n",
        "    if fun(i):\n",
        "      result.append(i)\n",
        "  return result\n",
        "\n",
        "#Test case:\n",
        "lst = [15, 32, 72, 27, 34, 25, 37, 19, 99, 9] \n",
        "final_list = myfilter(lambda x: (x%2 != 0) , lst)\n",
        "final_list"
      ],
      "execution_count": 41,
      "outputs": [
        {
          "output_type": "execute_result",
          "data": {
            "text/plain": [
              "[15, 27, 25, 37, 19, 99, 9]"
            ]
          },
          "metadata": {
            "tags": []
          },
          "execution_count": 41
        }
      ]
    },
    {
      "cell_type": "markdown",
      "metadata": {
        "id": "cGtlY7E04A6F"
      },
      "source": [
        "2.0 Implement List comprehensions to produce the following lists.\n",
        "\n",
        "Write List comprehensions to produce the following Lists\n",
        "\n",
        "<br>['x', 'xx', 'xxx', 'xxxx', 'y', 'yy', 'yyy', 'yyyy', 'z', 'zz', 'zzz', 'zzzz']\n",
        "<br>['x', 'y', 'z', 'xx', 'yy', 'zz', 'xxx', 'yyy', 'zzz', 'xxxx', 'yyyy', 'zzzz']\n",
        "<br>[[2], [3], [4], [3], [4], [5], [4], [5], [6]] \n",
        "<br>[[2, 3, 4, 5], [3, 4, 5, 6],\n",
        "[4, 5, 6, 7], [5, 6, 7, 8]]\n",
        "<br>[(1, 1), (2, 1), (3, 1), (1, 2), (2, 2), (3, 2), (1, 3), (2, 3), (3, 3)]"
      ]
    },
    {
      "cell_type": "code",
      "metadata": {
        "id": "nKh98N9w43l-",
        "outputId": "9ba88215-cacf-446d-b071-68e2ec89972c",
        "colab": {
          "base_uri": "https://localhost:8080/"
        }
      },
      "source": [
        "#First output\n",
        "base_list1 = ['x','y','z']\n",
        "list([i*j for i in base_list1 for j in range(1,5)])"
      ],
      "execution_count": 6,
      "outputs": [
        {
          "output_type": "execute_result",
          "data": {
            "text/plain": [
              "['x', 'xx', 'xxx', 'xxxx', 'y', 'yy', 'yyy', 'yyyy', 'z', 'zz', 'zzz', 'zzzz']"
            ]
          },
          "metadata": {
            "tags": []
          },
          "execution_count": 6
        }
      ]
    },
    {
      "cell_type": "code",
      "metadata": {
        "id": "bGzEC6LY6EMc",
        "outputId": "a63035e3-b565-4104-d974-a45dce1caadd",
        "colab": {
          "base_uri": "https://localhost:8080/"
        }
      },
      "source": [
        "#Second output\n",
        "base_list2 = ['x','y','z']\n",
        "list([i*j for i in range(1,5) for j in base_list1])"
      ],
      "execution_count": 7,
      "outputs": [
        {
          "output_type": "execute_result",
          "data": {
            "text/plain": [
              "['x', 'y', 'z', 'xx', 'yy', 'zz', 'xxx', 'yyy', 'zzz', 'xxxx', 'yyyy', 'zzzz']"
            ]
          },
          "metadata": {
            "tags": []
          },
          "execution_count": 7
        }
      ]
    },
    {
      "cell_type": "code",
      "metadata": {
        "id": "aMbdFf3z6Xw3",
        "outputId": "2260a09d-e10b-44a5-c775-88bd781974dc",
        "colab": {
          "base_uri": "https://localhost:8080/"
        }
      },
      "source": [
        "#third output\n",
        "base_list3 = list(range(2,5))\n",
        "[[i+k] for i in base_list3 for k in range(3)]"
      ],
      "execution_count": 24,
      "outputs": [
        {
          "output_type": "execute_result",
          "data": {
            "text/plain": [
              "[[2], [3], [4], [3], [4], [5], [4], [5], [6]]"
            ]
          },
          "metadata": {
            "tags": []
          },
          "execution_count": 24
        }
      ]
    },
    {
      "cell_type": "code",
      "metadata": {
        "id": "bY52OUMG6tGk",
        "outputId": "b8a30f80-32d1-434f-c8a2-c5c6543c9c33",
        "colab": {
          "base_uri": "https://localhost:8080/"
        }
      },
      "source": [
        "#fourth output\n",
        "base_list4 = list(range(2,6))\n",
        "[[i, i+1, i+2, i+3] for i in base_list4 ]"
      ],
      "execution_count": 19,
      "outputs": [
        {
          "output_type": "execute_result",
          "data": {
            "text/plain": [
              "[[2, 3, 4, 5], [3, 4, 5, 6], [4, 5, 6, 7], [5, 6, 7, 8]]"
            ]
          },
          "metadata": {
            "tags": []
          },
          "execution_count": 19
        }
      ]
    },
    {
      "cell_type": "code",
      "metadata": {
        "id": "Y6_5bXWh8p8C",
        "outputId": "797676b4-17ff-4320-ca1d-6c62ba26a079",
        "colab": {
          "base_uri": "https://localhost:8080/"
        }
      },
      "source": [
        "#fifth output\n",
        "base_list5 = list(range(1,4))\n",
        "[(j,i) for i in base_list5 for j in range(1,4)]"
      ],
      "execution_count": 21,
      "outputs": [
        {
          "output_type": "execute_result",
          "data": {
            "text/plain": [
              "[(1, 1), (2, 1), (3, 1), (1, 2), (2, 2), (3, 2), (1, 3), (2, 3), (3, 3)]"
            ]
          },
          "metadata": {
            "tags": []
          },
          "execution_count": 21
        }
      ]
    },
    {
      "cell_type": "code",
      "metadata": {
        "id": "adDXAV8z99oz"
      },
      "source": [
        ""
      ],
      "execution_count": null,
      "outputs": []
    }
  ]
}