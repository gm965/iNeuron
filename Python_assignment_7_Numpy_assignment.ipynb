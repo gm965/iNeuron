{
  "nbformat": 4,
  "nbformat_minor": 0,
  "metadata": {
    "colab": {
      "name": "Python_assignment_7_Numpy_assignment.ipynb",
      "provenance": [],
      "collapsed_sections": []
    },
    "kernelspec": {
      "name": "python3",
      "display_name": "Python 3"
    }
  },
  "cells": [
    {
      "cell_type": "code",
      "metadata": {
        "id": "WOm1idRm5DYB"
      },
      "source": [
        "import numpy as np"
      ],
      "execution_count": 1,
      "outputs": []
    },
    {
      "cell_type": "markdown",
      "metadata": {
        "id": "DHclNtNL8-PV"
      },
      "source": [
        "**Question** - Write a function so that the columns of the output matrix are powers of the input vector.\n",
        "The order of the powers is determined by the increasing boolean argument. Specifically, when increasing is False, the i-th output column is the input vector raised element-wise to the power of N - i - 1.\n"
      ]
    },
    {
      "cell_type": "code",
      "metadata": {
        "colab": {
          "base_uri": "https://localhost:8080/"
        },
        "id": "hmGnZMb-5FY0",
        "outputId": "3b98b840-69ed-451f-ec72-d9b868de83fb"
      },
      "source": [
        "def pow_mat(arr, pow_level=4, increasing = True):\n",
        "  if increasing:\n",
        "    return np.column_stack([arr**i for i in range(pow_level)])\n",
        "  else:\n",
        "    return np.column_stack([arr**(pow_level - i - 1) for i in range(pow_level)])\n",
        "\n",
        "#Test case\n",
        "input_vec = np.array([1,2,3,5])\n",
        "power_level = 4\n",
        "print(pow_mat(input_vec, power_level, increasing = True))    \n",
        "print(pow_mat(input_vec, power_level, increasing = False))    "
      ],
      "execution_count": 18,
      "outputs": [
        {
          "output_type": "stream",
          "text": [
            "[[  1   1   1   1]\n",
            " [  8   4   2   1]\n",
            " [ 27   9   3   1]\n",
            " [125  25   5   1]]\n"
          ],
          "name": "stdout"
        }
      ]
    },
    {
      "cell_type": "markdown",
      "metadata": {
        "id": "pQvu9gGl5GBQ"
      },
      "source": [
        "**Question**: Write a function to find moving average in an array over a window:\n",
        "Test it over [3, 5, 7, 2, 8, 10, 11, 65, 72, 81, 99, 100, 150] and window of 3."
      ]
    },
    {
      "cell_type": "code",
      "metadata": {
        "colab": {
          "base_uri": "https://localhost:8080/"
        },
        "id": "v3h2Eqln5SLh",
        "outputId": "c2851044-bd86-42e1-e5d6-8582d8dd7382"
      },
      "source": [
        "def moving_average(arr, window = 3):\n",
        "  arr_list = []\n",
        "  for i in range(len(arr)-(window-1)):\n",
        "    subset_mean = np.average(arr[i:i+window])\n",
        "    arr_list.append(subset_mean)\n",
        "  return np.array(arr_list).round(2)\n",
        "\n",
        "#Test case 1\n",
        "test_array = np.array([3, 5, 7, 2, 8, 10, 11, 65, 72, 81, 99, 100, 150])\n",
        "print(moving_average(test_array,3))\n",
        "\n",
        "\n",
        "#Test case 2\n",
        "test_array2 = np.array([10,20, 30, 40, 50, 60, 70, 80, 90, 100])\n",
        "print(moving_average(test_array2,4))\n"
      ],
      "execution_count": 16,
      "outputs": [
        {
          "output_type": "stream",
          "text": [
            "[  5.     4.67   5.67   6.67   9.67  28.67  49.33  72.67  84.    93.33\n",
            " 116.33]\n",
            "[25. 35. 45. 55. 65. 75. 85.]\n"
          ],
          "name": "stdout"
        }
      ]
    },
    {
      "cell_type": "code",
      "metadata": {
        "id": "e4VremRJ68Nr"
      },
      "source": [
        ""
      ],
      "execution_count": null,
      "outputs": []
    }
  ]
}