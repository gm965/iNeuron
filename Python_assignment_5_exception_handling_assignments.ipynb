{
  "nbformat": 4,
  "nbformat_minor": 0,
  "metadata": {
    "colab": {
      "name": "exception handling assignments.ipynb",
      "provenance": [],
      "collapsed_sections": []
    },
    "kernelspec": {
      "name": "python3",
      "display_name": "Python 3"
    }
  },
  "cells": [
    {
      "cell_type": "markdown",
      "metadata": {
        "id": "epCU90wU4LnI"
      },
      "source": [
        "1.0 Write a function to compute 5/0 and use try/except to catch the exceptions."
      ]
    },
    {
      "cell_type": "code",
      "metadata": {
        "id": "TpqALvV24Fj1",
        "outputId": "61850ac1-e587-4b71-d77c-815fff9595ec",
        "colab": {
          "base_uri": "https://localhost:8080/"
        }
      },
      "source": [
        "#Method 1\n",
        "def divisor(x,y):\n",
        "  try:\n",
        "    return x/y\n",
        "  except:\n",
        "    print(\"The denominator is zero.\")\n",
        "\n",
        "divisor(50,0)    "
      ],
      "execution_count": 11,
      "outputs": [
        {
          "output_type": "stream",
          "text": [
            "The denominator is zero.\n"
          ],
          "name": "stdout"
        }
      ]
    },
    {
      "cell_type": "code",
      "metadata": {
        "id": "7KStIwQm6wz1"
      },
      "source": [
        "#Method 2\n",
        "def divisor1(x,y):\n",
        "  try:\n",
        "    return x/y\n",
        "  except ZeroDivisionError as e:\n",
        "    print(\"The denominator is zero.\") \n",
        "\n",
        "divisor1(5,2.5)"
      ],
      "execution_count": null,
      "outputs": []
    },
    {
      "cell_type": "markdown",
      "metadata": {
        "id": "06p-WSYa4NGA"
      },
      "source": [
        "2.0 Implement a Python program to generate all sentences where subject is in\n",
        "[\"Americans\", \"Indians\"] and verb is in [\"Play\", \"watch\"] and the object is in\n",
        "[\"Baseball\",\"cricket\"]."
      ]
    },
    {
      "cell_type": "code",
      "metadata": {
        "id": "ajRlMXvu4Nny",
        "outputId": "8039ceaf-7420-49ff-a556-86a5656fa00a",
        "colab": {
          "base_uri": "https://localhost:8080/",
          "height": 203
        }
      },
      "source": [
        "#Method 1\n",
        "subjects=[\"Americans\",\"Indians\"]#\n",
        "verbs=[\"play\",\"watch\"] #\n",
        "objects=[\"Baseball\",\"Cricket\"]#\"Baseball\",\"Cricket\"\n",
        "\n",
        "if len(subjects)>0:\n",
        "  for s in subjects:\n",
        "    if len(verbs) > 0:\n",
        "      for v in verbs:\n",
        "        if len(objects) > 0:\n",
        "          for o in objects:\n",
        "            print(s+\" \"+ v +\" \"+ o) \n",
        "        else:\n",
        "          raise Exception(\"Atleast one object is required\")\n",
        "    else:\n",
        "      raise Exception(\"Atleast one verb is required\")\n",
        "else:\n",
        "  raise Exception(\"Atleast one subject is desired\")        "
      ],
      "execution_count": 28,
      "outputs": [
        {
          "output_type": "error",
          "ename": "Exception",
          "evalue": "ignored",
          "traceback": [
            "\u001b[0;31m---------------------------------------------------------------------------\u001b[0m",
            "\u001b[0;31mException\u001b[0m                                 Traceback (most recent call last)",
            "\u001b[0;32m<ipython-input-28-bd3e51c70970>\u001b[0m in \u001b[0;36m<module>\u001b[0;34m()\u001b[0m\n\u001b[1;32m     15\u001b[0m       \u001b[0;32mraise\u001b[0m \u001b[0mException\u001b[0m\u001b[0;34m(\u001b[0m\u001b[0;34m\"Atleast one verb is required\"\u001b[0m\u001b[0;34m)\u001b[0m\u001b[0;34m\u001b[0m\u001b[0;34m\u001b[0m\u001b[0m\n\u001b[1;32m     16\u001b[0m \u001b[0;32melse\u001b[0m\u001b[0;34m:\u001b[0m\u001b[0;34m\u001b[0m\u001b[0;34m\u001b[0m\u001b[0m\n\u001b[0;32m---> 17\u001b[0;31m   \u001b[0;32mraise\u001b[0m \u001b[0mException\u001b[0m\u001b[0;34m(\u001b[0m\u001b[0;34m\"Atleast one subject is desired\"\u001b[0m\u001b[0;34m)\u001b[0m\u001b[0;34m\u001b[0m\u001b[0;34m\u001b[0m\u001b[0m\n\u001b[0m",
            "\u001b[0;31mException\u001b[0m: Atleast one subject is desired"
          ]
        }
      ]
    },
    {
      "cell_type": "code",
      "metadata": {
        "id": "Jv1V-5fSFYKh",
        "outputId": "7c74d415-6668-45fe-e285-e19b413ea3c5",
        "colab": {
          "base_uri": "https://localhost:8080/"
        }
      },
      "source": [
        "#Method 2\n",
        "subjects=[\"Americans\",\"Indians\"]#\n",
        "verbs=[\"play\",\"watch\"] #\n",
        "objects=[\"Baseball\",\"Cricket\"]#\n",
        "\n",
        "sub_len = len(subjects)\n",
        "verbs_len = len(verbs)\n",
        "obj_len = len(objects)\n",
        "\n",
        "if sub_len == 0 or verbs_len == 0 or obj_len == 0:\n",
        "  lst = []\n",
        "  if sub_len ==0:\n",
        "    lst.append('subjects')\n",
        "  if verbs_len == 0:\n",
        "    lst.append('verbs')\n",
        "  if obj_len ==0:\n",
        "    lst.append('objects')\n",
        "  \n",
        "  raise Exception (\"Value is desired in atleast {} list(s): {}\".format(len(lst),lst))\n",
        "else:\n",
        "  for s in subjects:\n",
        "    for v in verbs:\n",
        "      for o in objects:\n",
        "        print(s+\" \"+ v +\" \"+ o) \n"
      ],
      "execution_count": 35,
      "outputs": [
        {
          "output_type": "stream",
          "text": [
            "Americans play Baseball\n",
            "Americans play Cricket\n",
            "Americans watch Baseball\n",
            "Americans watch Cricket\n",
            "Indians play Baseball\n",
            "Indians play Cricket\n",
            "Indians watch Baseball\n",
            "Indians watch Cricket\n"
          ],
          "name": "stdout"
        }
      ]
    },
    {
      "cell_type": "code",
      "metadata": {
        "id": "dRanoZlia9MQ"
      },
      "source": [
        ""
      ],
      "execution_count": null,
      "outputs": []
    }
  ]
}